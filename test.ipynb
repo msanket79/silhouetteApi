{
 "cells": [
  {
   "cell_type": "code",
   "execution_count": 1,
   "metadata": {},
   "outputs": [],
   "source": [
    "import facial_classification as fc\n",
    "classifier=fc.classifier(login={\n",
    "    'host' : \"localhost\",\n",
    "    'dbname' : \"silhouettedemo1\",\n",
    "    'user' : \"postgres\",\n",
    "    'password' : \"root\",\n",
    "    'port' : 5432\n",
    "},liveness_check=False)"
   ]
  },
  {
   "cell_type": "code",
   "execution_count": null,
   "metadata": {},
   "outputs": [],
   "source": [
    "testimg = classifier.classi"
   ]
  }
 ],
 "metadata": {
  "kernelspec": {
   "display_name": "project",
   "language": "python",
   "name": "python3"
  },
  "language_info": {
   "codemirror_mode": {
    "name": "ipython",
    "version": 3
   },
   "file_extension": ".py",
   "mimetype": "text/x-python",
   "name": "python",
   "nbconvert_exporter": "python",
   "pygments_lexer": "ipython3",
   "version": "3.9.16"
  },
  "orig_nbformat": 4,
  "vscode": {
   "interpreter": {
    "hash": "3a54a777a853dd5ec1689bf584c6052fae00a0d057de877a79729f9829506fde"
   }
  }
 },
 "nbformat": 4,
 "nbformat_minor": 2
}
